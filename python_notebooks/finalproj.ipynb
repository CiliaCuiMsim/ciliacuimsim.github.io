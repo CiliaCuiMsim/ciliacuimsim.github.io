{
 "cells": [
  {
   "cell_type": "markdown",
   "id": "c1c3a36c",
   "metadata": {},
   "source": [
    "# Final Project, Part 3.1 - Group 5  \n",
    "*Xiang He, Cilia Cui*"
   ]
  },
  {
   "cell_type": "markdown",
   "id": "84850d69",
   "metadata": {},
   "source": [
    "### 1 Module  import & Data preparation  \n",
    "Here we deduplicated the data set and cleaned up the null values.  "
   ]
  },
  {
   "cell_type": "code",
   "execution_count": 1,
   "id": "25b30f8e",
   "metadata": {},
   "outputs": [],
   "source": [
    "import altair as alt\n",
    "import pandas as pd"
   ]
  },
  {
   "cell_type": "code",
   "execution_count": 2,
   "id": "eb32875f",
   "metadata": {},
   "outputs": [
    {
     "data": {
      "text/html": [
       "<div>\n",
       "<style scoped>\n",
       "    .dataframe tbody tr th:only-of-type {\n",
       "        vertical-align: middle;\n",
       "    }\n",
       "\n",
       "    .dataframe tbody tr th {\n",
       "        vertical-align: top;\n",
       "    }\n",
       "\n",
       "    .dataframe thead th {\n",
       "        text-align: right;\n",
       "    }\n",
       "</style>\n",
       "<table border=\"1\" class=\"dataframe\">\n",
       "  <thead>\n",
       "    <tr style=\"text-align: right;\">\n",
       "      <th></th>\n",
       "      <th>Location</th>\n",
       "      <th>Number of Households (in 1000)</th>\n",
       "      <th>Percentage of households with pets</th>\n",
       "      <th>Number of Pet Households (in 1000)</th>\n",
       "      <th>Percentage of Dog Owners</th>\n",
       "      <th>Dog Owning Households (1000s)</th>\n",
       "      <th>Mean Number of Dogs per household</th>\n",
       "      <th>Dog Population (in 1000)</th>\n",
       "      <th>Percentage of Cat Owners</th>\n",
       "      <th>Cat Owning Households</th>\n",
       "      <th>Mean Number of Cats</th>\n",
       "      <th>Cat Population</th>\n",
       "    </tr>\n",
       "  </thead>\n",
       "  <tbody>\n",
       "    <tr>\n",
       "      <th>0</th>\n",
       "      <td>Alabama</td>\n",
       "      <td>1828</td>\n",
       "      <td>59.5</td>\n",
       "      <td>1088</td>\n",
       "      <td>44.1</td>\n",
       "      <td>807</td>\n",
       "      <td>1.7</td>\n",
       "      <td>1410</td>\n",
       "      <td>27.4</td>\n",
       "      <td>501</td>\n",
       "      <td>2.5</td>\n",
       "      <td>1252</td>\n",
       "    </tr>\n",
       "    <tr>\n",
       "      <th>1</th>\n",
       "      <td>Arizona</td>\n",
       "      <td>2515</td>\n",
       "      <td>59.5</td>\n",
       "      <td>1497</td>\n",
       "      <td>40.1</td>\n",
       "      <td>1008</td>\n",
       "      <td>1.8</td>\n",
       "      <td>1798</td>\n",
       "      <td>29.6</td>\n",
       "      <td>743</td>\n",
       "      <td>1.9</td>\n",
       "      <td>1438</td>\n",
       "    </tr>\n",
       "    <tr>\n",
       "      <th>2</th>\n",
       "      <td>Arkansas</td>\n",
       "      <td>1148</td>\n",
       "      <td>62.4</td>\n",
       "      <td>716</td>\n",
       "      <td>47.9</td>\n",
       "      <td>550</td>\n",
       "      <td>2.0</td>\n",
       "      <td>1097</td>\n",
       "      <td>30.6</td>\n",
       "      <td>351</td>\n",
       "      <td>2.3</td>\n",
       "      <td>810</td>\n",
       "    </tr>\n",
       "    <tr>\n",
       "      <th>3</th>\n",
       "      <td>California</td>\n",
       "      <td>12974</td>\n",
       "      <td>52.9</td>\n",
       "      <td>6865</td>\n",
       "      <td>32.8</td>\n",
       "      <td>4260</td>\n",
       "      <td>1.6</td>\n",
       "      <td>6687</td>\n",
       "      <td>28.3</td>\n",
       "      <td>3687</td>\n",
       "      <td>1.9</td>\n",
       "      <td>7118</td>\n",
       "    </tr>\n",
       "    <tr>\n",
       "      <th>4</th>\n",
       "      <td>Colorado</td>\n",
       "      <td>1986</td>\n",
       "      <td>61.3</td>\n",
       "      <td>1217</td>\n",
       "      <td>42.5</td>\n",
       "      <td>845</td>\n",
       "      <td>1.6</td>\n",
       "      <td>1349</td>\n",
       "      <td>32.3</td>\n",
       "      <td>642</td>\n",
       "      <td>1.9</td>\n",
       "      <td>1191</td>\n",
       "    </tr>\n",
       "  </tbody>\n",
       "</table>\n",
       "</div>"
      ],
      "text/plain": [
       "     Location  Number of Households (in 1000)  \\\n",
       "0     Alabama                            1828   \n",
       "1     Arizona                            2515   \n",
       "2    Arkansas                            1148   \n",
       "3  California                           12974   \n",
       "4    Colorado                            1986   \n",
       "\n",
       "   Percentage of households with pets  Number of Pet Households (in 1000)  \\\n",
       "0                                59.5                                1088   \n",
       "1                                59.5                                1497   \n",
       "2                                62.4                                 716   \n",
       "3                                52.9                                6865   \n",
       "4                                61.3                                1217   \n",
       "\n",
       "   Percentage of Dog Owners  Dog Owning Households (1000s)  \\\n",
       "0                      44.1                            807   \n",
       "1                      40.1                           1008   \n",
       "2                      47.9                            550   \n",
       "3                      32.8                           4260   \n",
       "4                      42.5                            845   \n",
       "\n",
       "   Mean Number of Dogs per household  Dog Population (in 1000)  \\\n",
       "0                                1.7                      1410   \n",
       "1                                1.8                      1798   \n",
       "2                                2.0                      1097   \n",
       "3                                1.6                      6687   \n",
       "4                                1.6                      1349   \n",
       "\n",
       "   Percentage of Cat Owners  Cat Owning Households  Mean Number of Cats  \\\n",
       "0                      27.4                    501                  2.5   \n",
       "1                      29.6                    743                  1.9   \n",
       "2                      30.6                    351                  2.3   \n",
       "3                      28.3                   3687                  1.9   \n",
       "4                      32.3                    642                  1.9   \n",
       "\n",
       "   Cat Population  \n",
       "0            1252  \n",
       "1            1438  \n",
       "2             810  \n",
       "3            7118  \n",
       "4            1191  "
      ]
     },
     "execution_count": 2,
     "metadata": {},
     "output_type": "execute_result"
    }
   ],
   "source": [
    "# Here we delete duplicate rows & na check\n",
    "catsvdogs = pd.read_excel('./data/catsvdogs.xlsx')\n",
    "catsvdogs.dropna()\n",
    "catsvdogs = pd.DataFrame(catsvdogs).drop_duplicates()\n",
    "catsvdogs.head()"
   ]
  },
  {
   "cell_type": "markdown",
   "id": "2b000274",
   "metadata": {},
   "source": [
    "### 2 Plot preparation  \n",
    "Here we create a brush and disable MaxRowsError"
   ]
  },
  {
   "cell_type": "code",
   "execution_count": 3,
   "id": "71e1c95b",
   "metadata": {},
   "outputs": [
    {
     "data": {
      "text/plain": [
       "DataTransformerRegistry.enable('default')"
      ]
     },
     "execution_count": 3,
     "metadata": {},
     "output_type": "execute_result"
    }
   ],
   "source": [
    "brush = alt.selection_interval(encodings=['x','y'])\n",
    "alt.data_transformers.disable_max_rows()"
   ]
  },
  {
   "cell_type": "markdown",
   "id": "4b56dd22",
   "metadata": {},
   "source": [
    "### 3.1 Dashboard \"driver\" plot: create rect plot"
   ]
  },
  {
   "cell_type": "code",
   "execution_count": 4,
   "id": "97101451",
   "metadata": {},
   "outputs": [],
   "source": [
    "rect_alt = alt.Chart(catsvdogs).mark_rect().encode(\n",
    "    alt.X(\"Mean Number of Dogs per household:Q\",bin=alt.Bin(maxbins=11)),\n",
    "    alt.Y(\"Location:O\"),\n",
    "    alt.Color(\"Dog Population (in 1000)\", scale=alt.Scale(scheme='goldorange'))\n",
    ").properties(     \n",
    "    height=900\n",
    ").add_selection(\n",
    "    brush\n",
    ")"
   ]
  },
  {
   "cell_type": "markdown",
   "id": "37069fba",
   "metadata": {},
   "source": [
    "#### Quotations around any parts of Homework #9 and Homework #10  \n",
    "[hw 9 Source](https://starboard.gg/hexiang/he-xiang-assignment9-nm5I9G2)  \n",
    "[hw 10 Source](https://canvas.illinois.edu/courses/21951/assignments/503837/submissions/107804)  \n",
    "This two plots are same plot with previous assignments but all with the new dataset with some changes."
   ]
  },
  {
   "cell_type": "markdown",
   "id": "b0fe8fda",
   "metadata": {},
   "source": [
    "### 3.2 Dashboard \"driven\" plot: create bar chart"
   ]
  },
  {
   "cell_type": "code",
   "execution_count": 5,
   "id": "8ad078a3",
   "metadata": {},
   "outputs": [],
   "source": [
    "hist_alt = alt.Chart(catsvdogs).mark_bar().encode(\n",
    "    alt.X(\"Location:N\",axis=alt.Axis(title='Location'), sort='-y'),\n",
    "    alt.Y(\"Cat Population\", axis=alt.Axis(title='Cat Population')),\n",
    "    alt.Color(\"Location\")\n",
    ").properties(\n",
    "    height=300\n",
    ").transform_filter(\n",
    "    brush\n",
    ")"
   ]
  },
  {
   "cell_type": "code",
   "execution_count": 6,
   "id": "7c368e98",
   "metadata": {
    "scrolled": true
   },
   "outputs": [
    {
     "data": {
      "text/html": [
       "\n",
       "<div id=\"altair-viz-aa8c2e8c187942c5b8cd61af77633af6\"></div>\n",
       "<script type=\"text/javascript\">\n",
       "  var VEGA_DEBUG = (typeof VEGA_DEBUG == \"undefined\") ? {} : VEGA_DEBUG;\n",
       "  (function(spec, embedOpt){\n",
       "    let outputDiv = document.currentScript.previousElementSibling;\n",
       "    if (outputDiv.id !== \"altair-viz-aa8c2e8c187942c5b8cd61af77633af6\") {\n",
       "      outputDiv = document.getElementById(\"altair-viz-aa8c2e8c187942c5b8cd61af77633af6\");\n",
       "    }\n",
       "    const paths = {\n",
       "      \"vega\": \"https://cdn.jsdelivr.net/npm//vega@5?noext\",\n",
       "      \"vega-lib\": \"https://cdn.jsdelivr.net/npm//vega-lib?noext\",\n",
       "      \"vega-lite\": \"https://cdn.jsdelivr.net/npm//vega-lite@4.17.0?noext\",\n",
       "      \"vega-embed\": \"https://cdn.jsdelivr.net/npm//vega-embed@6?noext\",\n",
       "    };\n",
       "\n",
       "    function maybeLoadScript(lib, version) {\n",
       "      var key = `${lib.replace(\"-\", \"\")}_version`;\n",
       "      return (VEGA_DEBUG[key] == version) ?\n",
       "        Promise.resolve(paths[lib]) :\n",
       "        new Promise(function(resolve, reject) {\n",
       "          var s = document.createElement('script');\n",
       "          document.getElementsByTagName(\"head\")[0].appendChild(s);\n",
       "          s.async = true;\n",
       "          s.onload = () => {\n",
       "            VEGA_DEBUG[key] = version;\n",
       "            return resolve(paths[lib]);\n",
       "          };\n",
       "          s.onerror = () => reject(`Error loading script: ${paths[lib]}`);\n",
       "          s.src = paths[lib];\n",
       "        });\n",
       "    }\n",
       "\n",
       "    function showError(err) {\n",
       "      outputDiv.innerHTML = `<div class=\"error\" style=\"color:red;\">${err}</div>`;\n",
       "      throw err;\n",
       "    }\n",
       "\n",
       "    function displayChart(vegaEmbed) {\n",
       "      vegaEmbed(outputDiv, spec, embedOpt)\n",
       "        .catch(err => showError(`Javascript Error: ${err.message}<br>This usually means there's a typo in your chart specification. See the javascript console for the full traceback.`));\n",
       "    }\n",
       "\n",
       "    if(typeof define === \"function\" && define.amd) {\n",
       "      requirejs.config({paths});\n",
       "      require([\"vega-embed\"], displayChart, err => showError(`Error loading script: ${err.message}`));\n",
       "    } else {\n",
       "      maybeLoadScript(\"vega\", \"5\")\n",
       "        .then(() => maybeLoadScript(\"vega-lite\", \"4.17.0\"))\n",
       "        .then(() => maybeLoadScript(\"vega-embed\", \"6\"))\n",
       "        .catch(showError)\n",
       "        .then(() => displayChart(vegaEmbed));\n",
       "    }\n",
       "  })({\"config\": {\"view\": {\"continuousWidth\": 400, \"continuousHeight\": 300}}, \"hconcat\": [{\"mark\": \"rect\", \"encoding\": {\"color\": {\"field\": \"Dog Population (in 1000)\", \"scale\": {\"scheme\": \"goldorange\"}, \"type\": \"quantitative\"}, \"x\": {\"bin\": {\"maxbins\": 11}, \"field\": \"Mean Number of Dogs per household\", \"type\": \"quantitative\"}, \"y\": {\"field\": \"Location\", \"type\": \"ordinal\"}}, \"height\": 900, \"selection\": {\"selector001\": {\"type\": \"interval\", \"encodings\": [\"x\", \"y\"]}}, \"width\": 300}, {\"mark\": \"bar\", \"encoding\": {\"color\": {\"field\": \"Location\", \"type\": \"nominal\"}, \"x\": {\"axis\": {\"title\": \"Location\"}, \"field\": \"Location\", \"sort\": \"-y\", \"type\": \"nominal\"}, \"y\": {\"axis\": {\"title\": \"Cat Population\"}, \"field\": \"Cat Population\", \"type\": \"quantitative\"}}, \"height\": 300, \"transform\": [{\"filter\": {\"selection\": \"selector001\"}}]}], \"data\": {\"name\": \"data-268d03f0a674f39b983c092628b8ab7b\"}, \"$schema\": \"https://vega.github.io/schema/vega-lite/v4.17.0.json\", \"datasets\": {\"data-268d03f0a674f39b983c092628b8ab7b\": [{\"Location\": \"Alabama\", \"Number of Households (in 1000)\": 1828, \"Percentage of households with pets\": 59.5, \"Number of Pet Households (in 1000)\": 1088, \"Percentage of Dog Owners\": 44.1, \"Dog Owning Households (1000s)\": 807, \"Mean Number of Dogs per household\": 1.7, \"Dog Population (in 1000)\": 1410, \"Percentage of Cat Owners\": 27.4, \"Cat Owning Households\": 501, \"Mean Number of Cats\": 2.5, \"Cat Population\": 1252}, {\"Location\": \"Arizona\", \"Number of Households (in 1000)\": 2515, \"Percentage of households with pets\": 59.5, \"Number of Pet Households (in 1000)\": 1497, \"Percentage of Dog Owners\": 40.1, \"Dog Owning Households (1000s)\": 1008, \"Mean Number of Dogs per household\": 1.8, \"Dog Population (in 1000)\": 1798, \"Percentage of Cat Owners\": 29.6, \"Cat Owning Households\": 743, \"Mean Number of Cats\": 1.9, \"Cat Population\": 1438}, {\"Location\": \"Arkansas\", \"Number of Households (in 1000)\": 1148, \"Percentage of households with pets\": 62.4, \"Number of Pet Households (in 1000)\": 716, \"Percentage of Dog Owners\": 47.9, \"Dog Owning Households (1000s)\": 550, \"Mean Number of Dogs per household\": 2.0, \"Dog Population (in 1000)\": 1097, \"Percentage of Cat Owners\": 30.6, \"Cat Owning Households\": 351, \"Mean Number of Cats\": 2.3, \"Cat Population\": 810}, {\"Location\": \"California\", \"Number of Households (in 1000)\": 12974, \"Percentage of households with pets\": 52.9, \"Number of Pet Households (in 1000)\": 6865, \"Percentage of Dog Owners\": 32.8, \"Dog Owning Households (1000s)\": 4260, \"Mean Number of Dogs per household\": 1.6, \"Dog Population (in 1000)\": 6687, \"Percentage of Cat Owners\": 28.3, \"Cat Owning Households\": 3687, \"Mean Number of Cats\": 1.9, \"Cat Population\": 7118}, {\"Location\": \"Colorado\", \"Number of Households (in 1000)\": 1986, \"Percentage of households with pets\": 61.3, \"Number of Pet Households (in 1000)\": 1217, \"Percentage of Dog Owners\": 42.5, \"Dog Owning Households (1000s)\": 845, \"Mean Number of Dogs per household\": 1.6, \"Dog Population (in 1000)\": 1349, \"Percentage of Cat Owners\": 32.3, \"Cat Owning Households\": 642, \"Mean Number of Cats\": 1.9, \"Cat Population\": 1191}, {\"Location\": \"Connecticut\", \"Number of Households (in 1000)\": 1337, \"Percentage of households with pets\": 54.4, \"Number of Pet Households (in 1000)\": 728, \"Percentage of Dog Owners\": 28.3, \"Dog Owning Households (1000s)\": 379, \"Mean Number of Dogs per household\": 1.3, \"Dog Population (in 1000)\": 507, \"Percentage of Cat Owners\": 31.9, \"Cat Owning Households\": 427, \"Mean Number of Cats\": 1.9, \"Cat Population\": 796}, {\"Location\": \"Delaware\", \"Number of Households (in 1000)\": 334, \"Percentage of households with pets\": 56.6, \"Number of Pet Households (in 1000)\": 189, \"Percentage of Dog Owners\": 33.7, \"Dog Owning Households (1000s)\": 113, \"Mean Number of Dogs per household\": 1.4, \"Dog Population (in 1000)\": 163, \"Percentage of Cat Owners\": 33.7, \"Cat Owning Households\": 113, \"Mean Number of Cats\": 1.7, \"Cat Population\": 187}, {\"Location\": \"District of Columbia\", \"Number of Households (in 1000)\": 287, \"Percentage of households with pets\": 21.9, \"Number of Pet Households (in 1000)\": 63, \"Percentage of Dog Owners\": 13.1, \"Dog Owning Households (1000s)\": 38, \"Mean Number of Dogs per household\": 1.1, \"Dog Population (in 1000)\": 42, \"Percentage of Cat Owners\": 11.6, \"Cat Owning Households\": 33, \"Mean Number of Cats\": 1.9, \"Cat Population\": 63}, {\"Location\": \"Florida\", \"Number of Households (in 1000)\": 7609, \"Percentage of households with pets\": 54.4, \"Number of Pet Households (in 1000)\": 4138, \"Percentage of Dog Owners\": 35.7, \"Dog Owning Households (1000s)\": 2718, \"Mean Number of Dogs per household\": 1.5, \"Dog Population (in 1000)\": 4210, \"Percentage of Cat Owners\": 27.3, \"Cat Owning Households\": 2079, \"Mean Number of Cats\": 2.1, \"Cat Population\": 4375}, {\"Location\": \"Georgia\", \"Number of Households (in 1000)\": 3798, \"Percentage of households with pets\": 55.1, \"Number of Pet Households (in 1000)\": 2093, \"Percentage of Dog Owners\": 40.1, \"Dog Owning Households (1000s)\": 1522, \"Mean Number of Dogs per household\": 1.6, \"Dog Population (in 1000)\": 2479, \"Percentage of Cat Owners\": 27.3, \"Cat Owning Households\": 1037, \"Mean Number of Cats\": 2.1, \"Cat Population\": 2162}, {\"Location\": \"Idaho\", \"Number of Households (in 1000)\": 568, \"Percentage of households with pets\": 62.0, \"Number of Pet Households (in 1000)\": 352, \"Percentage of Dog Owners\": 42.7, \"Dog Owning Households (1000s)\": 242, \"Mean Number of Dogs per household\": 1.5, \"Dog Population (in 1000)\": 357, \"Percentage of Cat Owners\": 34.6, \"Cat Owning Households\": 196, \"Mean Number of Cats\": 2.0, \"Cat Population\": 393}, {\"Location\": \"Illinois\", \"Number of Households (in 1000)\": 5026, \"Percentage of households with pets\": 51.8, \"Number of Pet Households (in 1000)\": 2602, \"Percentage of Dog Owners\": 32.4, \"Dog Owning Households (1000s)\": 1627, \"Mean Number of Dogs per household\": 1.5, \"Dog Population (in 1000)\": 2365, \"Percentage of Cat Owners\": 26.3, \"Cat Owning Households\": 1321, \"Mean Number of Cats\": 1.9, \"Cat Population\": 2453}, {\"Location\": \"Indiana\", \"Number of Households (in 1000)\": 2478, \"Percentage of households with pets\": 59.9, \"Number of Pet Households (in 1000)\": 1484, \"Percentage of Dog Owners\": 39.9, \"Dog Owning Households (1000s)\": 989, \"Mean Number of Dogs per household\": 1.6, \"Dog Population (in 1000)\": 1619, \"Percentage of Cat Owners\": 34.4, \"Cat Owning Households\": 852, \"Mean Number of Cats\": 2.2, \"Cat Population\": 1912}, {\"Location\": \"Iowa\", \"Number of Households (in 1000)\": 1219, \"Percentage of households with pets\": 53.6, \"Number of Pet Households (in 1000)\": 654, \"Percentage of Dog Owners\": 33.4, \"Dog Owning Households (1000s)\": 407, \"Mean Number of Dogs per household\": 1.5, \"Dog Population (in 1000)\": 610, \"Percentage of Cat Owners\": 30.3, \"Cat Owning Households\": 370, \"Mean Number of Cats\": 2.2, \"Cat Population\": 805}, {\"Location\": \"Kansas\", \"Number of Households (in 1000)\": 1133, \"Percentage of households with pets\": 61.0, \"Number of Pet Households (in 1000)\": 691, \"Percentage of Dog Owners\": 42.3, \"Dog Owning Households (1000s)\": 480, \"Mean Number of Dogs per household\": 1.6, \"Dog Population (in 1000)\": 774, \"Percentage of Cat Owners\": 33.3, \"Cat Owning Households\": 378, \"Mean Number of Cats\": 1.9, \"Cat Population\": 731}, {\"Location\": \"Kentucky\", \"Number of Households (in 1000)\": 1777, \"Percentage of households with pets\": 61.6, \"Number of Pet Households (in 1000)\": 1094, \"Percentage of Dog Owners\": 45.9, \"Dog Owning Households (1000s)\": 816, \"Mean Number of Dogs per household\": 1.9, \"Dog Population (in 1000)\": 1531, \"Percentage of Cat Owners\": 36.8, \"Cat Owning Households\": 654, \"Mean Number of Cats\": 2.1, \"Cat Population\": 1349}, {\"Location\": \"Louisiana\", \"Number of Households (in 1000)\": 1702, \"Percentage of households with pets\": 55.1, \"Number of Pet Households (in 1000)\": 937, \"Percentage of Dog Owners\": 36.4, \"Dog Owning Households (1000s)\": 619, \"Mean Number of Dogs per household\": 1.8, \"Dog Population (in 1000)\": 1115, \"Percentage of Cat Owners\": 25.9, \"Cat Owning Households\": 441, \"Mean Number of Cats\": 2.0, \"Cat Population\": 877}, {\"Location\": \"Maine\", \"Number of Households (in 1000)\": 548, \"Percentage of households with pets\": 62.9, \"Number of Pet Households (in 1000)\": 345, \"Percentage of Dog Owners\": 34.6, \"Dog Owning Households (1000s)\": 190, \"Mean Number of Dogs per household\": 1.6, \"Dog Population (in 1000)\": 300, \"Percentage of Cat Owners\": 46.4, \"Cat Owning Households\": 254, \"Mean Number of Cats\": 1.9, \"Cat Population\": 498}, {\"Location\": \"Maryland\", \"Number of Households (in 1000)\": 2169, \"Percentage of households with pets\": 52.3, \"Number of Pet Households (in 1000)\": 1134, \"Percentage of Dog Owners\": 30.8, \"Dog Owning Households (1000s)\": 667, \"Mean Number of Dogs per household\": 1.4, \"Dog Population (in 1000)\": 915, \"Percentage of Cat Owners\": 29.8, \"Cat Owning Households\": 645, \"Mean Number of Cats\": 2.6, \"Cat Population\": 1677}, {\"Location\": \"Massachusetts\", \"Number of Households (in 1000)\": 2618, \"Percentage of households with pets\": 50.4, \"Number of Pet Households (in 1000)\": 1318, \"Percentage of Dog Owners\": 23.6, \"Dog Owning Households (1000s)\": 618, \"Mean Number of Dogs per household\": 1.4, \"Dog Population (in 1000)\": 850, \"Percentage of Cat Owners\": 34.1, \"Cat Owning Households\": 892, \"Mean Number of Cats\": 1.8, \"Cat Population\": 1593}, {\"Location\": \"Michigan\", \"Number of Households (in 1000)\": 3804, \"Percentage of households with pets\": 55.4, \"Number of Pet Households (in 1000)\": 2108, \"Percentage of Dog Owners\": 34.6, \"Dog Owning Households (1000s)\": 1318, \"Mean Number of Dogs per household\": 1.5, \"Dog Population (in 1000)\": 2036, \"Percentage of Cat Owners\": 31.3, \"Cat Owning Households\": 1192, \"Mean Number of Cats\": 2.0, \"Cat Population\": 2420}, {\"Location\": \"Minnesota\", \"Number of Households (in 1000)\": 2163, \"Percentage of households with pets\": 53.0, \"Number of Pet Households (in 1000)\": 1146, \"Percentage of Dog Owners\": 31.9, \"Dog Owning Households (1000s)\": 690, \"Mean Number of Dogs per household\": 1.4, \"Dog Population (in 1000)\": 934, \"Percentage of Cat Owners\": 29.7, \"Cat Owning Households\": 643, \"Mean Number of Cats\": 2.0, \"Cat Population\": 1264}, {\"Location\": \"Mississippi\", \"Number of Households (in 1000)\": 1115, \"Percentage of households with pets\": 56.4, \"Number of Pet Households (in 1000)\": 629, \"Percentage of Dog Owners\": 45.2, \"Dog Owning Households (1000s)\": 504, \"Mean Number of Dogs per household\": 1.7, \"Dog Population (in 1000)\": 846, \"Percentage of Cat Owners\": 29.1, \"Cat Owning Households\": 324, \"Mean Number of Cats\": 2.1, \"Cat Population\": 668}, {\"Location\": \"Missouri\", \"Number of Households (in 1000)\": 2498, \"Percentage of households with pets\": 61.4, \"Number of Pet Households (in 1000)\": 1534, \"Percentage of Dog Owners\": 45.9, \"Dog Owning Households (1000s)\": 1148, \"Mean Number of Dogs per household\": 1.7, \"Dog Population (in 1000)\": 1978, \"Percentage of Cat Owners\": 32.2, \"Cat Owning Households\": 805, \"Mean Number of Cats\": 2.1, \"Cat Population\": 1653}, {\"Location\": \"Montana\", \"Number of Households (in 1000)\": 410, \"Percentage of households with pets\": 61.3, \"Number of Pet Households (in 1000)\": 251, \"Percentage of Dog Owners\": 41.2, \"Dog Owning Households (1000s)\": 169, \"Mean Number of Dogs per household\": 1.7, \"Dog Population (in 1000)\": 282, \"Percentage of Cat Owners\": 33.6, \"Cat Owning Households\": 138, \"Mean Number of Cats\": 2.0, \"Cat Population\": 277}, {\"Location\": \"Nebraska\", \"Number of Households (in 1000)\": 710, \"Percentage of households with pets\": 51.3, \"Number of Pet Households (in 1000)\": 364, \"Percentage of Dog Owners\": 33.8, \"Dog Owning Households (1000s)\": 240, \"Mean Number of Dogs per household\": 1.6, \"Dog Population (in 1000)\": 374, \"Percentage of Cat Owners\": 31.3, \"Cat Owning Households\": 222, \"Mean Number of Cats\": 2.3, \"Cat Population\": 514}, {\"Location\": \"Nevada\", \"Number of Households (in 1000)\": 986, \"Percentage of households with pets\": 55.6, \"Number of Pet Households (in 1000)\": 548, \"Percentage of Dog Owners\": 37.1, \"Dog Owning Households (1000s)\": 366, \"Mean Number of Dogs per household\": 1.6, \"Dog Population (in 1000)\": 578, \"Percentage of Cat Owners\": 30.3, \"Cat Owning Households\": 299, \"Mean Number of Cats\": 2.1, \"Cat Population\": 625}, {\"Location\": \"New Hampshire\", \"Number of Households (in 1000)\": 508, \"Percentage of households with pets\": 56.8, \"Number of Pet Households (in 1000)\": 289, \"Percentage of Dog Owners\": 30.3, \"Dog Owning Households (1000s)\": 154, \"Mean Number of Dogs per household\": 1.4, \"Dog Population (in 1000)\": 212, \"Percentage of Cat Owners\": 34.2, \"Cat Owning Households\": 174, \"Mean Number of Cats\": 1.8, \"Cat Population\": 309}, {\"Location\": \"New Jersey\", \"Number of Households (in 1000)\": 3177, \"Percentage of households with pets\": 50.7, \"Number of Pet Households (in 1000)\": 1611, \"Percentage of Dog Owners\": 32.4, \"Dog Owning Households (1000s)\": 1028, \"Mean Number of Dogs per household\": 1.3, \"Dog Population (in 1000)\": 1340, \"Percentage of Cat Owners\": 25.3, \"Cat Owning Households\": 803, \"Mean Number of Cats\": 1.8, \"Cat Population\": 1468}, {\"Location\": \"New Mexico\", \"Number of Households (in 1000)\": 773, \"Percentage of households with pets\": 67.6, \"Number of Pet Households (in 1000)\": 523, \"Percentage of Dog Owners\": 46.0, \"Dog Owning Households (1000s)\": 356, \"Mean Number of Dogs per household\": 2.0, \"Dog Population (in 1000)\": 703, \"Percentage of Cat Owners\": 32.0, \"Cat Owning Households\": 247, \"Mean Number of Cats\": 2.2, \"Cat Population\": 533}, {\"Location\": \"New York\", \"Number of Households (in 1000)\": 7512, \"Percentage of households with pets\": 50.6, \"Number of Pet Households (in 1000)\": 3802, \"Percentage of Dog Owners\": 29.0, \"Dog Owning Households (1000s)\": 2177, \"Mean Number of Dogs per household\": 1.4, \"Dog Population (in 1000)\": 3054, \"Percentage of Cat Owners\": 29.1, \"Cat Owning Households\": 2189, \"Mean Number of Cats\": 1.9, \"Cat Population\": 4261}, {\"Location\": \"North Carolina\", \"Number of Households (in 1000)\": 3701, \"Percentage of households with pets\": 56.4, \"Number of Pet Households (in 1000)\": 2089, \"Percentage of Dog Owners\": 40.3, \"Dog Owning Households (1000s)\": 1491, \"Mean Number of Dogs per household\": 1.7, \"Dog Population (in 1000)\": 2518, \"Percentage of Cat Owners\": 29.5, \"Cat Owning Households\": 1090, \"Mean Number of Cats\": 2.0, \"Cat Population\": 2220}, {\"Location\": \"North Dakota\", \"Number of Households (in 1000)\": 272, \"Percentage of households with pets\": 53.9, \"Number of Pet Households (in 1000)\": 147, \"Percentage of Dog Owners\": 36.1, \"Dog Owning Households (1000s)\": 98, \"Mean Number of Dogs per household\": 1.4, \"Dog Population (in 1000)\": 139, \"Percentage of Cat Owners\": 31.4, \"Cat Owning Households\": 85, \"Mean Number of Cats\": 2.0, \"Cat Population\": 174}, {\"Location\": \"Ohio\", \"Number of Households (in 1000)\": 4661, \"Percentage of households with pets\": 57.4, \"Number of Pet Households (in 1000)\": 2677, \"Percentage of Dog Owners\": 36.6, \"Dog Owning Households (1000s)\": 1708, \"Mean Number of Dogs per household\": 1.6, \"Dog Population (in 1000)\": 2730, \"Percentage of Cat Owners\": 33.3, \"Cat Owning Households\": 1553, \"Mean Number of Cats\": 2.4, \"Cat Population\": 3786}, {\"Location\": \"Oklahoma\", \"Number of Households (in 1000)\": 1479, \"Percentage of households with pets\": 58.9, \"Number of Pet Households (in 1000)\": 872, \"Percentage of Dog Owners\": 43.2, \"Dog Owning Households (1000s)\": 638, \"Mean Number of Dogs per household\": 2.1, \"Dog Population (in 1000)\": 1327, \"Percentage of Cat Owners\": 32.6, \"Cat Owning Households\": 482, \"Mean Number of Cats\": 2.2, \"Cat Population\": 1041}, {\"Location\": \"Oregon\", \"Number of Households (in 1000)\": 1505, \"Percentage of households with pets\": 63.6, \"Number of Pet Households (in 1000)\": 957, \"Percentage of Dog Owners\": 38.8, \"Dog Owning Households (1000s)\": 584, \"Mean Number of Dogs per household\": 1.6, \"Dog Population (in 1000)\": 917, \"Percentage of Cat Owners\": 40.2, \"Cat Owning Households\": 605, \"Mean Number of Cats\": 2.0, \"Cat Population\": 1185}, {\"Location\": \"Pennsylvania\", \"Number of Households (in 1000)\": 5172, \"Percentage of households with pets\": 56.9, \"Number of Pet Households (in 1000)\": 2942, \"Percentage of Dog Owners\": 32.9, \"Dog Owning Households (1000s)\": 1702, \"Mean Number of Dogs per household\": 1.5, \"Dog Population (in 1000)\": 2485, \"Percentage of Cat Owners\": 33.8, \"Cat Owning Households\": 1748, \"Mean Number of Cats\": 2.0, \"Cat Population\": 3544}, {\"Location\": \"Rhode Island\", \"Number of Households (in 1000)\": 434, \"Percentage of households with pets\": 53.0, \"Number of Pet Households (in 1000)\": 230, \"Percentage of Dog Owners\": 29.3, \"Dog Owning Households (1000s)\": 127, \"Mean Number of Dogs per household\": 1.3, \"Dog Population (in 1000)\": 161, \"Percentage of Cat Owners\": 27.6, \"Cat Owning Households\": 120, \"Mean Number of Cats\": 1.8, \"Cat Population\": 212}, {\"Location\": \"South Carolina\", \"Number of Households (in 1000)\": 1759, \"Percentage of households with pets\": 54.1, \"Number of Pet Households (in 1000)\": 951, \"Percentage of Dog Owners\": 38.6, \"Dog Owning Households (1000s)\": 678, \"Mean Number of Dogs per household\": 1.8, \"Dog Population (in 1000)\": 1191, \"Percentage of Cat Owners\": 27.8, \"Cat Owning Households\": 490, \"Mean Number of Cats\": 2.1, \"Cat Population\": 1039}, {\"Location\": \"South Dakota\", \"Number of Households (in 1000)\": 333, \"Percentage of households with pets\": 65.6, \"Number of Pet Households (in 1000)\": 219, \"Percentage of Dog Owners\": 42.8, \"Dog Owning Households (1000s)\": 143, \"Mean Number of Dogs per household\": 1.5, \"Dog Population (in 1000)\": 220, \"Percentage of Cat Owners\": 39.1, \"Cat Owning Households\": 130, \"Mean Number of Cats\": 2.2, \"Cat Population\": 290}, {\"Location\": \"Tennessee\", \"Number of Households (in 1000)\": 2583, \"Percentage of households with pets\": 59.6, \"Number of Pet Households (in 1000)\": 1540, \"Percentage of Dog Owners\": 44.1, \"Dog Owning Households (1000s)\": 1140, \"Mean Number of Dogs per household\": 1.9, \"Dog Population (in 1000)\": 2157, \"Percentage of Cat Owners\": 29.8, \"Cat Owning Households\": 770, \"Mean Number of Cats\": 2.3, \"Cat Population\": 1749}, {\"Location\": \"Texas\", \"Number of Households (in 1000)\": 9002, \"Percentage of households with pets\": 58.5, \"Number of Pet Households (in 1000)\": 5265, \"Percentage of Dog Owners\": 44.0, \"Dog Owning Households (1000s)\": 3960, \"Mean Number of Dogs per household\": 1.8, \"Dog Population (in 1000)\": 7163, \"Percentage of Cat Owners\": 28.3, \"Cat Owning Households\": 2544, \"Mean Number of Cats\": 2.2, \"Cat Population\": 5565}, {\"Location\": \"Utah\", \"Number of Households (in 1000)\": 930, \"Percentage of households with pets\": 51.2, \"Number of Pet Households (in 1000)\": 476, \"Percentage of Dog Owners\": 29.4, \"Dog Owning Households (1000s)\": 273, \"Mean Number of Dogs per household\": 1.5, \"Dog Population (in 1000)\": 410, \"Percentage of Cat Owners\": 24.6, \"Cat Owning Households\": 229, \"Mean Number of Cats\": 2.0, \"Cat Population\": 455}, {\"Location\": \"Vermont\", \"Number of Households (in 1000)\": 265, \"Percentage of households with pets\": 70.8, \"Number of Pet Households (in 1000)\": 188, \"Percentage of Dog Owners\": 37.7, \"Dog Owning Households (1000s)\": 100, \"Mean Number of Dogs per household\": 1.4, \"Dog Population (in 1000)\": 142, \"Percentage of Cat Owners\": 49.5, \"Cat Owning Households\": 131, \"Mean Number of Cats\": 1.8, \"Cat Population\": 234}, {\"Location\": \"Virginia\", \"Number of Households (in 1000)\": 3017, \"Percentage of households with pets\": 53.4, \"Number of Pet Households (in 1000)\": 1611, \"Percentage of Dog Owners\": 35.4, \"Dog Owning Households (1000s)\": 1069, \"Mean Number of Dogs per household\": 1.6, \"Dog Population (in 1000)\": 1699, \"Percentage of Cat Owners\": 29.0, \"Cat Owning Households\": 876, \"Mean Number of Cats\": 2.1, \"Cat Population\": 1855}, {\"Location\": \"Washington\", \"Number of Households (in 1000)\": 2632, \"Percentage of households with pets\": 62.7, \"Number of Pet Households (in 1000)\": 1649, \"Percentage of Dog Owners\": 36.3, \"Dog Owning Households (1000s)\": 954, \"Mean Number of Dogs per household\": 1.7, \"Dog Population (in 1000)\": 1609, \"Percentage of Cat Owners\": 39.0, \"Cat Owning Households\": 1028, \"Mean Number of Cats\": 1.8, \"Cat Population\": 1844}, {\"Location\": \"West Virginia\", \"Number of Households (in 1000)\": 765, \"Percentage of households with pets\": 62.1, \"Number of Pet Households (in 1000)\": 475, \"Percentage of Dog Owners\": 45.8, \"Dog Owning Households (1000s)\": 350, \"Mean Number of Dogs per household\": 1.8, \"Dog Population (in 1000)\": 648, \"Percentage of Cat Owners\": 38.1, \"Cat Owning Households\": 291, \"Mean Number of Cats\": 2.2, \"Cat Population\": 628}, {\"Location\": \"Wisconsin\", \"Number of Households (in 1000)\": 2350, \"Percentage of households with pets\": 57.5, \"Number of Pet Households (in 1000)\": 1352, \"Percentage of Dog Owners\": 33.9, \"Dog Owning Households (1000s)\": 796, \"Mean Number of Dogs per household\": 1.4, \"Dog Population (in 1000)\": 1138, \"Percentage of Cat Owners\": 33.0, \"Cat Owning Households\": 776, \"Mean Number of Cats\": 1.9, \"Cat Population\": 1510}, {\"Location\": \"Wyoming\", \"Number of Households (in 1000)\": 221, \"Percentage of households with pets\": 61.8, \"Number of Pet Households (in 1000)\": 137, \"Percentage of Dog Owners\": 38.8, \"Dog Owning Households (1000s)\": 86, \"Mean Number of Dogs per household\": 1.5, \"Dog Population (in 1000)\": 125, \"Percentage of Cat Owners\": 33.9, \"Cat Owning Households\": 75, \"Mean Number of Cats\": 1.9, \"Cat Population\": 144}]}}, {\"mode\": \"vega-lite\"});\n",
       "</script>"
      ],
      "text/plain": [
       "alt.HConcatChart(...)"
      ]
     },
     "execution_count": 6,
     "metadata": {},
     "output_type": "execute_result"
    }
   ],
   "source": [
    "dashboard = rect_alt.properties(width=300) | hist_alt\n",
    "dashboard"
   ]
  },
  {
   "cell_type": "markdown",
   "id": "6c4f0859",
   "metadata": {},
   "source": [
    "## Write up  \n",
    "* Dashboard description:  \n",
    "This dashboard is to explore the relationship, in an interactive way, between the number of dogs in each US state and the number of dogs per household on average.In the meanwhile, the dashboard also shows the cat population the selected states. Select the square area on the left with the mouse, and the corresponding histogram can be displayed interactively on the right.  \n",
    "The diagram on the left is the driver diagram. It shows the average number of dogs per households by US state. Among them, the color of each square represents the total number of dogs in the state. The graph on the right is the driven graph, which represents the total number of cat for each state. And the bar chart was ordered by the total number. So when reader select a region in the left, the state which has most cat will be shown in the right. Different color indicates different states, so the readers can compare them vividly. "
   ]
  },
  {
   "cell_type": "code",
   "execution_count": null,
   "id": "65b54af2",
   "metadata": {},
   "outputs": [],
   "source": []
  }
 ],
 "metadata": {
  "kernelspec": {
   "display_name": "Python 3.8.4 64-bit",
   "language": "python",
   "name": "python3"
  },
  "language_info": {
   "codemirror_mode": {
    "name": "ipython",
    "version": 3
   },
   "file_extension": ".py",
   "mimetype": "text/x-python",
   "name": "python",
   "nbconvert_exporter": "python",
   "pygments_lexer": "ipython3",
   "version": "3.8.4"
  },
  "vscode": {
   "interpreter": {
    "hash": "e2aae14933474253bf7e204dfdcd59c9e221c3358c06c5af46c0ae09e251b4f0"
   }
  }
 },
 "nbformat": 4,
 "nbformat_minor": 5
}
